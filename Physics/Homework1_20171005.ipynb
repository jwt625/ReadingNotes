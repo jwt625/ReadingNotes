{
 "cells": [
  {
   "cell_type": "markdown",
   "metadata": {},
   "source": [
    "# Nanophotonics Homework 1"
   ]
  },
  {
   "cell_type": "markdown",
   "metadata": {},
   "source": [
    "Wentao Jiang, wentao@stanford.edu, 06165416"
   ]
  },
  {
   "cell_type": "code",
   "execution_count": 27,
   "metadata": {},
   "outputs": [],
   "source": [
    "# Parameters:\n",
    "m_e = 9.11e-31\n",
    "e = 1.6e-19\n",
    "epsilon_0 = 8.85e-12\n",
    "hbar = 1.05e-34\n",
    "c = 299792458.0"
   ]
  },
  {
   "cell_type": "markdown",
   "metadata": {},
   "source": [
    "## Question 1"
   ]
  },
  {
   "cell_type": "markdown",
   "metadata": {},
   "source": [
    "(a)\n",
    "\n",
    "Since $\\omega_0^2 =  F /m_e$\n",
    "    \n",
    "\n",
    "$\\therefore F = m_e\\omega_0^2 = 12.23 $N/m."
   ]
  },
  {
   "cell_type": "markdown",
   "metadata": {},
   "source": [
    "(b)\n",
    "\n",
    "$$\n",
    "\\mathbf p_0 = \\frac{e^2}{m_e}\\frac1{\\omega_0^2 - \\omega^2-i\\gamma \\omega} \\mathbf E_L\n",
    "$$\n",
    "\n",
    "And the absorption is narrow which means $\\gamma \\ll \\omega_0$, $\\therefore$ for $ \\omega \\ll \\omega_0 $,\n",
    "\n",
    "$$\n",
    "|\\mathbf r_0| = \\frac{e}{m_e} \\frac1{\\omega_0^2}|\\mathbf E_L |= 1.31 \\times 10^{-16} \\mathrm m\n",
    "$$"
   ]
  },
  {
   "cell_type": "markdown",
   "metadata": {},
   "source": [
    "(c)\n",
    "\n",
    "For $\\gamma = 0.01 \\omega_0$ and $\\omega = \\omega_0$,\n",
    "\n",
    "$$\n",
    "|\\mathbf r_0| = \\frac e {m_e} \\frac 1 { \\sqrt{ (\\omega_0^2-\\omega^2)^2 + \\gamma^2 \\omega^2 }}|\\mathbf E_L| =  \\frac e {m_e} \\frac 1 { \\gamma \\omega_0 }|\\mathbf E_L| = 1.31 \\times 10^{-14} \\mathrm m\n",
    "$$\n",
    "\n",
    "This result is 100 times of the result in (b)."
   ]
  },
  {
   "cell_type": "markdown",
   "metadata": {},
   "source": [
    "(d)\n",
    "\n"
   ]
  },
  {
   "cell_type": "code",
   "execution_count": 20,
   "metadata": {},
   "outputs": [
    {
     "name": "stdout",
     "output_type": "stream",
     "text": [
      "3664.69THz\n",
      "12.234678115146929\n"
     ]
    }
   ],
   "source": [
    "# 1.a\n",
    "omega_0 = 2*3.14159*c/(514e-9)\n",
    "F = m_e * omega_0**2\n",
    "print(\"%.2fTHz\"%(omega_0/1e12))\n",
    "print(F)"
   ]
  },
  {
   "cell_type": "code",
   "execution_count": 24,
   "metadata": {},
   "outputs": [
    {
     "name": "stdout",
     "output_type": "stream",
     "text": [
      "1.3077581485524722e-16\n"
     ]
    }
   ],
   "source": [
    "# 1.b\n",
    "E_L = 1e4\n",
    "r_0 = e/m_e *E_L/ omega_0**2\n",
    "print(r_0)"
   ]
  },
  {
   "cell_type": "code",
   "execution_count": 26,
   "metadata": {},
   "outputs": [
    {
     "name": "stdout",
     "output_type": "stream",
     "text": [
      "1.307758148552472e-14\n"
     ]
    }
   ],
   "source": [
    "# 1.c\n",
    "r_0_2 = e/m_e *E_L/( 0.01*omega_0**2)\n",
    "print(r_0_2)"
   ]
  },
  {
   "cell_type": "code",
   "execution_count": 28,
   "metadata": {},
   "outputs": [
    {
     "name": "stdout",
     "output_type": "stream",
     "text": [
      "Variable    Type     Data/Info\n",
      "------------------------------\n",
      "E_L         float    10000.0\n",
      "F           float    12.234678115146929\n",
      "c           float    299792458.0\n",
      "e           float    1.6e-19\n",
      "e_m         float    9.11e-31\n",
      "epsilon_0   float    8.85e-12\n",
      "hbar        float    1.05e-34\n",
      "m_e         float    9.11e-31\n",
      "omega_0     float    3664688669759611.0\n",
      "r_0         float    1.3077581485524722e-16\n",
      "r_0_2       float    1.307758148552472e-14\n"
     ]
    }
   ],
   "source": [
    "%whos"
   ]
  },
  {
   "cell_type": "code",
   "execution_count": null,
   "metadata": {},
   "outputs": [],
   "source": []
  }
 ],
 "metadata": {
  "kernelspec": {
   "display_name": "Python 3",
   "language": "python",
   "name": "python3"
  },
  "language_info": {
   "codemirror_mode": {
    "name": "ipython",
    "version": 3
   },
   "file_extension": ".py",
   "mimetype": "text/x-python",
   "name": "python",
   "nbconvert_exporter": "python",
   "pygments_lexer": "ipython3",
   "version": "3.6.1"
  }
 },
 "nbformat": 4,
 "nbformat_minor": 2
}
